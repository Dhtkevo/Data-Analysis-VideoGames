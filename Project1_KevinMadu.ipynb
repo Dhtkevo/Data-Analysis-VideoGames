{
 "cells": [
  {
   "cell_type": "code",
   "execution_count": 10,
   "id": "3b4e7eff",
   "metadata": {},
   "outputs": [
    {
     "name": "stdout",
     "output_type": "stream",
     "text": [
      "# of Rows: 348\n"
     ]
    },
    {
     "data": {
      "text/html": [
       "<div>\n",
       "<style scoped>\n",
       "    .dataframe tbody tr th:only-of-type {\n",
       "        vertical-align: middle;\n",
       "    }\n",
       "\n",
       "    .dataframe tbody tr th {\n",
       "        vertical-align: top;\n",
       "    }\n",
       "\n",
       "    .dataframe thead th {\n",
       "        text-align: right;\n",
       "    }\n",
       "</style>\n",
       "<table border=\"1\" class=\"dataframe\">\n",
       "  <thead>\n",
       "    <tr style=\"text-align: right;\">\n",
       "      <th></th>\n",
       "      <th>rank</th>\n",
       "      <th>name</th>\n",
       "      <th>platform</th>\n",
       "      <th>year</th>\n",
       "      <th>genre</th>\n",
       "      <th>publisher</th>\n",
       "      <th>na_sales (millions)</th>\n",
       "      <th>eu_sales (millions)</th>\n",
       "      <th>jp_sales (millions)</th>\n",
       "      <th>other_sales (millions)</th>\n",
       "      <th>global_sales (millions)</th>\n",
       "    </tr>\n",
       "  </thead>\n",
       "  <tbody>\n",
       "    <tr>\n",
       "      <th>221</th>\n",
       "      <td>222</td>\n",
       "      <td>FIFA 17</td>\n",
       "      <td>PS4</td>\n",
       "      <td>2016.0</td>\n",
       "      <td>Sports</td>\n",
       "      <td>Electronic Arts</td>\n",
       "      <td>0.28</td>\n",
       "      <td>3.75</td>\n",
       "      <td>0.06</td>\n",
       "      <td>0.69</td>\n",
       "      <td>4.77</td>\n",
       "    </tr>\n",
       "    <tr>\n",
       "      <th>271</th>\n",
       "      <td>272</td>\n",
       "      <td>Uncharted 4: A Thief's End</td>\n",
       "      <td>PS4</td>\n",
       "      <td>2016.0</td>\n",
       "      <td>Shooter</td>\n",
       "      <td>Sony Computer Entertainment</td>\n",
       "      <td>1.30</td>\n",
       "      <td>2.07</td>\n",
       "      <td>0.18</td>\n",
       "      <td>0.65</td>\n",
       "      <td>4.20</td>\n",
       "    </tr>\n",
       "    <tr>\n",
       "      <th>351</th>\n",
       "      <td>352</td>\n",
       "      <td>Tom Clancy's The Division</td>\n",
       "      <td>PS4</td>\n",
       "      <td>2016.0</td>\n",
       "      <td>Shooter</td>\n",
       "      <td>Ubisoft</td>\n",
       "      <td>1.28</td>\n",
       "      <td>1.61</td>\n",
       "      <td>0.15</td>\n",
       "      <td>0.57</td>\n",
       "      <td>3.61</td>\n",
       "    </tr>\n",
       "    <tr>\n",
       "      <th>770</th>\n",
       "      <td>772</td>\n",
       "      <td>Far Cry: Primal</td>\n",
       "      <td>PS4</td>\n",
       "      <td>2016.0</td>\n",
       "      <td>Action</td>\n",
       "      <td>Ubisoft</td>\n",
       "      <td>0.59</td>\n",
       "      <td>1.16</td>\n",
       "      <td>0.06</td>\n",
       "      <td>0.33</td>\n",
       "      <td>2.13</td>\n",
       "    </tr>\n",
       "    <tr>\n",
       "      <th>845</th>\n",
       "      <td>847</td>\n",
       "      <td>Tom Clancy's The Division</td>\n",
       "      <td>XOne</td>\n",
       "      <td>2016.0</td>\n",
       "      <td>Shooter</td>\n",
       "      <td>Ubisoft</td>\n",
       "      <td>1.20</td>\n",
       "      <td>0.62</td>\n",
       "      <td>0.00</td>\n",
       "      <td>0.18</td>\n",
       "      <td>2.01</td>\n",
       "    </tr>\n",
       "  </tbody>\n",
       "</table>\n",
       "</div>"
      ],
      "text/plain": [
       "     rank                        name platform    year    genre  \\\n",
       "221   222                     FIFA 17      PS4  2016.0   Sports   \n",
       "271   272  Uncharted 4: A Thief's End      PS4  2016.0  Shooter   \n",
       "351   352   Tom Clancy's The Division      PS4  2016.0  Shooter   \n",
       "770   772             Far Cry: Primal      PS4  2016.0   Action   \n",
       "845   847   Tom Clancy's The Division     XOne  2016.0  Shooter   \n",
       "\n",
       "                       publisher  na_sales (millions)  eu_sales (millions)  \\\n",
       "221              Electronic Arts                 0.28                 3.75   \n",
       "271  Sony Computer Entertainment                 1.30                 2.07   \n",
       "351                      Ubisoft                 1.28                 1.61   \n",
       "770                      Ubisoft                 0.59                 1.16   \n",
       "845                      Ubisoft                 1.20                 0.62   \n",
       "\n",
       "     jp_sales (millions)  other_sales (millions)  global_sales (millions)  \n",
       "221                 0.06                    0.69                     4.77  \n",
       "271                 0.18                    0.65                     4.20  \n",
       "351                 0.15                    0.57                     3.61  \n",
       "770                 0.06                    0.33                     2.13  \n",
       "845                 0.00                    0.18                     2.01  "
      ]
     },
     "execution_count": 10,
     "metadata": {},
     "output_type": "execute_result"
    }
   ],
   "source": [
    "import pandas as pd\n",
    "import matplotlib.pyplot as plt\n",
    "import numpy as np\n",
    "\n",
    "game_data = pd.read_csv(\"video_games_sales.csv\")\n",
    "\n",
    "game_data = game_data[game_data['year'] > 2015]\n",
    "\n",
    "print(f\"# of Rows: {len(game_data.index)}\")\n",
    "\n",
    "\n",
    "game_data.head()"
   ]
  },
  {
   "cell_type": "markdown",
   "id": "459db6e4",
   "metadata": {},
   "source": [
    "# Task 1\n",
    "\n",
    "The data source contains various data such as Genre, publisher, and sales of many popular video games from random years.\n",
    "\n",
    "Main Question: What is the overall trend of video game sales for different game platforms since 2015?  (Wii, PS4 , PC, etc)\n",
    "- Which platform averages more sales since 2015, PS4 or Xbox One?\n",
    "- Which platform will average the least amount of sales since 2015?\n",
    "- Which platform will average the most amount of sales since 2015?\n",
    "\n",
    "Link: https://www.kaggle.com/datasets/ulrikthygepedersen/video-games-sales"
   ]
  },
  {
   "cell_type": "code",
   "execution_count": 11,
   "id": "105e7ad6",
   "metadata": {},
   "outputs": [],
   "source": [
    "# Task 2\n",
    "\n",
    "# Drop unwanted features\n",
    "important_data = game_data[['platform', 'global_sales (millions)', 'year']]\n",
    "\n",
    "# Remove data with missing values\n",
    "important_data = important_data.dropna()\n",
    "\n",
    "# Remove duplicate rows\n",
    "important_data.drop_duplicates()\n",
    "\n",
    "# Data type of each column is ok\n",
    "\n",
    "# No inconsistencies in categorical variables\n",
    "\n",
    "#Remove outliers\n",
    "game_data_nooutliers = important_data[important_data['global_sales (millions)'] < 6]\n"
   ]
  },
  {
   "cell_type": "code",
   "execution_count": 12,
   "id": "2444b2f9",
   "metadata": {},
   "outputs": [
    {
     "name": "stdout",
     "output_type": "stream",
     "text": [
      "          global_sales (millions)\n",
      "platform                         \n",
      "3DS                      0.188571\n",
      "DS                       0.290000\n",
      "PC                       0.068421\n",
      "PS3                      0.080937\n",
      "PS4                      0.363704\n",
      "PSV                      0.055161\n",
      "WiiU                     0.329000\n",
      "X360                     0.103750\n",
      "XOne                     0.229074\n"
     ]
    },
    {
     "data": {
      "image/png": "[encoded data removed]",
      "text/plain": [
       "<Figure size 640x480 with 1 Axes>"
      ]
     },
     "metadata": {},
     "output_type": "display_data"
    }
   ],
   "source": [
    "# Task 3\n",
    "\n",
    "table = pd.pivot_table( game_data_nooutliers , index = ['platform'], values= 'global_sales (millions)', aggfunc=np.mean)\n",
    "print(table)\n",
    "\n",
    "plt.bar(game_data_nooutliers['platform'], game_data_nooutliers['global_sales (millions)'])\n",
    "\n",
    "plt.xlabel('Platforms')\n",
    "plt.ylabel('No# of Sales (Millions)')\n",
    "plt.title('Video game sales per platform after 2015')\n",
    "\n",
    "plt.show()\n"
   ]
  },
  {
   "cell_type": "markdown",
   "id": "10180fcf",
   "metadata": {},
   "source": [
    "# Task 3.C\n",
    "\n",
    "The graph shows that the platform with the most sales since 2015 is the PS4, by an incredible amount. The graph also shows that the platform with the least amount of sales since 2015 is the Nintendo DS. The overall trend of platform sales show that gaming consoles sell more than PC's.\n",
    "\n",
    "Video game sales on PS4 has been increasing dramatically compared to other platforms since 2015. The number of video games sold on PS4 is over 2x the amount of video game sales on the Xbox One, which is the second highest selling platform since 2015. As expected, majority of the older platforms such as the PS3 and X360 are low in video game sales during this time period.\n",
    "\n",
    "The trend of PC sales during this time period is very interesting. PC's have sold less than the 3DS and WiiU, which are older platforms since 2015. This find is very unexpected considering the popularity of PC gaming."
   ]
  },
  {
   "cell_type": "markdown",
   "id": "ec853561",
   "metadata": {},
   "source": [
    "# Task 4\n",
    "\n",
    "My main findings from this project was that PS4 is the platform with the most video game sales, if we only include data after 2015. I also found that the Nintendo DS is the worst selling platform in that same time period.\n",
    "\n",
    "I failed to find how the newest generation of game platforms (PS5 and new xbox series) compare in this time period. This dataset does not include those new generation platforms within this dataset. To get a more accurate and up to date trend of video game platform sales during this time period, I would need a dataset that includes the new generation game consoles."
   ]
  },
  {
   "cell_type": "code",
   "execution_count": null,
   "id": "ef9f2d10",
   "metadata": {},
   "outputs": [],
   "source": []
  }
 ],
 "metadata": {
  "kernelspec": {
   "display_name": "Python 3 (ipykernel)",
   "language": "python",
   "name": "python3"
  },
  "language_info": {
   "codemirror_mode": {
    "name": "ipython",
    "version": 3
   },
   "file_extension": ".py",
   "mimetype": "text/x-python",
   "name": "python",
   "nbconvert_exporter": "python",
   "pygments_lexer": "ipython3",
   "version": "3.11.4"
  }
 },
 "nbformat": 4,
 "nbformat_minor": 5
}
